{
 "cells": [
  {
   "cell_type": "code",
   "execution_count": 12,
   "id": "d278b4ce",
   "metadata": {},
   "outputs": [],
   "source": [
    "# elt\n",
    "import pandas as pd\n",
    "import numpy as np\n",
    "\n",
    "# ols and iv models\n",
    "import statsmodels.api as sm\n",
    "import statsmodels.formula.api as smf\n",
    "\n",
    "#visualization and animation\n",
    "import seaborn as sns\n",
    "import matplotlib.pyplot as plt\n",
    "from matplotlib.animation import FuncAnimation\n",
    "from IPython import display\n",
    "import warnings\n",
    "warnings.filterwarnings(\"ignore\")"
   ]
  },
  {
   "cell_type": "code",
   "execution_count": 3,
   "id": "24574256",
   "metadata": {},
   "outputs": [
    {
     "name": "stdout",
     "output_type": "stream",
     "text": [
      "Requirement already satisfied: linearmodels in c:\\users\\jprin\\appdata\\roaming\\python\\python39\\site-packages (5.4)\n",
      "Requirement already satisfied: Cython>=0.29.37 in c:\\users\\jprin\\appdata\\roaming\\python\\python39\\site-packages (from linearmodels) (3.0.8)\n",
      "Requirement already satisfied: formulaic>=0.6.5 in c:\\users\\jprin\\appdata\\roaming\\python\\python39\\site-packages (from linearmodels) (1.0.1)\n",
      "Requirement already satisfied: numpy>=1.22.0 in c:\\users\\jprin\\anaconda3\\lib\\site-packages (from linearmodels) (1.22.4)\n",
      "Requirement already satisfied: setuptools-scm[toml]<9.0.0,>=8.0.0 in c:\\users\\jprin\\appdata\\roaming\\python\\python39\\site-packages (from linearmodels) (8.0.4)\n",
      "Requirement already satisfied: pyhdfe>=0.1 in c:\\users\\jprin\\appdata\\roaming\\python\\python39\\site-packages (from linearmodels) (0.2.0)\n",
      "Requirement already satisfied: pandas>=1.3.0 in c:\\users\\jprin\\anaconda3\\lib\\site-packages (from linearmodels) (1.4.2)\n",
      "Requirement already satisfied: mypy-extensions>=0.4 in c:\\users\\jprin\\anaconda3\\lib\\site-packages (from linearmodels) (0.4.3)\n",
      "Requirement already satisfied: statsmodels>=0.12.0 in c:\\users\\jprin\\anaconda3\\lib\\site-packages (from linearmodels) (0.13.2)\n",
      "Requirement already satisfied: scipy>=1.5.0 in c:\\users\\jprin\\anaconda3\\lib\\site-packages (from linearmodels) (1.7.3)\n",
      "Requirement already satisfied: wrapt>=1.0 in c:\\users\\jprin\\anaconda3\\lib\\site-packages (from formulaic>=0.6.5->linearmodels) (1.12.1)\n",
      "Requirement already satisfied: typing-extensions>=4.2.0 in c:\\users\\jprin\\anaconda3\\lib\\site-packages (from formulaic>=0.6.5->linearmodels) (4.9.0)\n",
      "Requirement already satisfied: interface-meta>=1.2.0 in c:\\users\\jprin\\appdata\\roaming\\python\\python39\\site-packages (from formulaic>=0.6.5->linearmodels) (1.3.0)\n",
      "Requirement already satisfied: python-dateutil>=2.8.1 in c:\\users\\jprin\\anaconda3\\lib\\site-packages (from pandas>=1.3.0->linearmodels) (2.8.2)\n",
      "Requirement already satisfied: pytz>=2020.1 in c:\\users\\jprin\\anaconda3\\lib\\site-packages (from pandas>=1.3.0->linearmodels) (2021.3)\n",
      "Requirement already satisfied: six>=1.5 in c:\\users\\jprin\\anaconda3\\lib\\site-packages (from python-dateutil>=2.8.1->pandas>=1.3.0->linearmodels) (1.16.0)\n",
      "Requirement already satisfied: setuptools in c:\\users\\jprin\\anaconda3\\lib\\site-packages (from setuptools-scm[toml]<9.0.0,>=8.0.0->linearmodels) (61.2.0)\n",
      "Requirement already satisfied: tomli>=1 in c:\\users\\jprin\\anaconda3\\lib\\site-packages (from setuptools-scm[toml]<9.0.0,>=8.0.0->linearmodels) (1.2.2)\n",
      "Requirement already satisfied: packaging>=20 in c:\\users\\jprin\\anaconda3\\lib\\site-packages (from setuptools-scm[toml]<9.0.0,>=8.0.0->linearmodels) (21.3)\n",
      "Requirement already satisfied: pyparsing!=3.0.5,>=2.0.2 in c:\\users\\jprin\\anaconda3\\lib\\site-packages (from packaging>=20->setuptools-scm[toml]<9.0.0,>=8.0.0->linearmodels) (3.0.4)\n",
      "Requirement already satisfied: patsy>=0.5.2 in c:\\users\\jprin\\anaconda3\\lib\\site-packages (from statsmodels>=0.12.0->linearmodels) (0.5.2)\n"
     ]
    }
   ],
   "source": [
    "!pip install linearmodels --user"
   ]
  },
  {
   "cell_type": "code",
   "execution_count": 4,
   "id": "c0244ab3",
   "metadata": {},
   "outputs": [],
   "source": [
    "from linearmodels.iv import IV2SLS"
   ]
  },
  {
   "cell_type": "code",
   "execution_count": 6,
   "id": "ea6e5875",
   "metadata": {},
   "outputs": [],
   "source": [
    "fulton_data = pd.read_csv(\"fulton_fish_market_data.txt\", sep = '\\t')"
   ]
  },
  {
   "cell_type": "code",
   "execution_count": 7,
   "id": "cff6d327",
   "metadata": {},
   "outputs": [
    {
     "data": {
      "text/html": [
       "<div>\n",
       "<style scoped>\n",
       "    .dataframe tbody tr th:only-of-type {\n",
       "        vertical-align: middle;\n",
       "    }\n",
       "\n",
       "    .dataframe tbody tr th {\n",
       "        vertical-align: top;\n",
       "    }\n",
       "\n",
       "    .dataframe thead th {\n",
       "        text-align: right;\n",
       "    }\n",
       "</style>\n",
       "<table border=\"1\" class=\"dataframe\">\n",
       "  <thead>\n",
       "    <tr style=\"text-align: right;\">\n",
       "      <th></th>\n",
       "      <th>day1</th>\n",
       "      <th>day2</th>\n",
       "      <th>day3</th>\n",
       "      <th>day4</th>\n",
       "      <th>date</th>\n",
       "      <th>stormy</th>\n",
       "      <th>mixed</th>\n",
       "      <th>price</th>\n",
       "      <th>qty</th>\n",
       "      <th>rainy</th>\n",
       "      <th>cold</th>\n",
       "      <th>windspd</th>\n",
       "      <th>windspd2</th>\n",
       "      <th>pricelevel</th>\n",
       "      <th>totr</th>\n",
       "      <th>tots</th>\n",
       "    </tr>\n",
       "  </thead>\n",
       "  <tbody>\n",
       "    <tr>\n",
       "      <th>0</th>\n",
       "      <td>1</td>\n",
       "      <td>0</td>\n",
       "      <td>0</td>\n",
       "      <td>0</td>\n",
       "      <td>911202</td>\n",
       "      <td>1</td>\n",
       "      <td>0</td>\n",
       "      <td>-0.430783</td>\n",
       "      <td>8.994421</td>\n",
       "      <td>1</td>\n",
       "      <td>0</td>\n",
       "      <td>2.995732</td>\n",
       "      <td>8.974412</td>\n",
       "      <td>0.650000</td>\n",
       "      <td>7232</td>\n",
       "      <td>8058</td>\n",
       "    </tr>\n",
       "    <tr>\n",
       "      <th>1</th>\n",
       "      <td>0</td>\n",
       "      <td>1</td>\n",
       "      <td>0</td>\n",
       "      <td>0</td>\n",
       "      <td>911203</td>\n",
       "      <td>1</td>\n",
       "      <td>0</td>\n",
       "      <td>0.000000</td>\n",
       "      <td>7.707063</td>\n",
       "      <td>0</td>\n",
       "      <td>0</td>\n",
       "      <td>2.995732</td>\n",
       "      <td>8.974412</td>\n",
       "      <td>1.000000</td>\n",
       "      <td>2110</td>\n",
       "      <td>2224</td>\n",
       "    </tr>\n",
       "    <tr>\n",
       "      <th>2</th>\n",
       "      <td>0</td>\n",
       "      <td>0</td>\n",
       "      <td>1</td>\n",
       "      <td>0</td>\n",
       "      <td>911204</td>\n",
       "      <td>0</td>\n",
       "      <td>1</td>\n",
       "      <td>0.072321</td>\n",
       "      <td>8.350194</td>\n",
       "      <td>1</td>\n",
       "      <td>1</td>\n",
       "      <td>2.813411</td>\n",
       "      <td>7.915280</td>\n",
       "      <td>1.075000</td>\n",
       "      <td>5247</td>\n",
       "      <td>4231</td>\n",
       "    </tr>\n",
       "    <tr>\n",
       "      <th>3</th>\n",
       "      <td>0</td>\n",
       "      <td>0</td>\n",
       "      <td>0</td>\n",
       "      <td>1</td>\n",
       "      <td>911205</td>\n",
       "      <td>1</td>\n",
       "      <td>0</td>\n",
       "      <td>0.247139</td>\n",
       "      <td>8.656955</td>\n",
       "      <td>0</td>\n",
       "      <td>1</td>\n",
       "      <td>3.036554</td>\n",
       "      <td>9.220662</td>\n",
       "      <td>1.280357</td>\n",
       "      <td>1290</td>\n",
       "      <td>5750</td>\n",
       "    </tr>\n",
       "    <tr>\n",
       "      <th>4</th>\n",
       "      <td>0</td>\n",
       "      <td>0</td>\n",
       "      <td>0</td>\n",
       "      <td>0</td>\n",
       "      <td>911206</td>\n",
       "      <td>1</td>\n",
       "      <td>0</td>\n",
       "      <td>0.664327</td>\n",
       "      <td>7.844241</td>\n",
       "      <td>0</td>\n",
       "      <td>1</td>\n",
       "      <td>3.036554</td>\n",
       "      <td>9.220662</td>\n",
       "      <td>1.943182</td>\n",
       "      <td>1717</td>\n",
       "      <td>2551</td>\n",
       "    </tr>\n",
       "  </tbody>\n",
       "</table>\n",
       "</div>"
      ],
      "text/plain": [
       "   day1  day2  day3  day4    date  stormy  mixed     price       qty  rainy  \\\n",
       "0     1     0     0     0  911202       1      0 -0.430783  8.994421      1   \n",
       "1     0     1     0     0  911203       1      0  0.000000  7.707063      0   \n",
       "2     0     0     1     0  911204       0      1  0.072321  8.350194      1   \n",
       "3     0     0     0     1  911205       1      0  0.247139  8.656955      0   \n",
       "4     0     0     0     0  911206       1      0  0.664327  7.844241      0   \n",
       "\n",
       "   cold   windspd  windspd2  pricelevel  totr  tots  \n",
       "0     0  2.995732  8.974412    0.650000  7232  8058  \n",
       "1     0  2.995732  8.974412    1.000000  2110  2224  \n",
       "2     1  2.813411  7.915280    1.075000  5247  4231  \n",
       "3     1  3.036554  9.220662    1.280357  1290  5750  \n",
       "4     1  3.036554  9.220662    1.943182  1717  2551  "
      ]
     },
     "execution_count": 7,
     "metadata": {},
     "output_type": "execute_result"
    }
   ],
   "source": [
    "fulton_data.head()"
   ]
  },
  {
   "cell_type": "code",
   "execution_count": 8,
   "id": "3e45902a",
   "metadata": {},
   "outputs": [
    {
     "data": {
      "text/plain": [
       "day1          0\n",
       "day2          0\n",
       "day3          0\n",
       "day4          0\n",
       "date          0\n",
       "stormy        0\n",
       "mixed         0\n",
       "price         0\n",
       "qty           0\n",
       "rainy         0\n",
       "cold          0\n",
       "windspd       0\n",
       "windspd2      0\n",
       "pricelevel    0\n",
       "totr          0\n",
       "tots          0\n",
       "dtype: int64"
      ]
     },
     "execution_count": 8,
     "metadata": {},
     "output_type": "execute_result"
    }
   ],
   "source": [
    "fulton_data.isnull().sum()"
   ]
  },
  {
   "cell_type": "code",
   "execution_count": 15,
   "id": "b3ad524c",
   "metadata": {},
   "outputs": [
    {
     "data": {
      "text/plain": [
       "<seaborn.axisgrid.PairGrid at 0x1a90387f610>"
      ]
     },
     "execution_count": 15,
     "metadata": {},
     "output_type": "execute_result"
    },
    {
     "data": {
      "image/png": "[encoded data removed]",
      "text/plain": [
       "<Figure size 576x576 with 1 Axes>"
      ]
     },
     "metadata": {
      "needs_background": "light"
     },
     "output_type": "display_data"
    }
   ],
   "source": [
    "sns.pairplot(fulton_data,kind = \"reg\", size = 8, x_vars= [\"price\"], y_vars=[\"qty\"] )"
   ]
  },
  {
   "cell_type": "code",
   "execution_count": 20,
   "id": "e4ffa09d",
   "metadata": {},
   "outputs": [
    {
     "ename": "LinAlgError",
     "evalue": "SVD did not converge",
     "output_type": "error",
     "traceback": [
      "\u001b[1;31m---------------------------------------------------------------------------\u001b[0m",
      "\u001b[1;31mLinAlgError\u001b[0m                               Traceback (most recent call last)",
      "Input \u001b[1;32mIn [20]\u001b[0m, in \u001b[0;36m<cell line: 1>\u001b[1;34m()\u001b[0m\n\u001b[1;32m----> 1\u001b[0m lm \u001b[38;5;241m=\u001b[39m \u001b[43msmf\u001b[49m\u001b[38;5;241;43m.\u001b[39;49m\u001b[43mols\u001b[49m\u001b[43m \u001b[49m\u001b[43m(\u001b[49m\u001b[38;5;124;43m\"\u001b[39;49m\u001b[38;5;124;43mnp.log(qty) ~ np.log(price)\u001b[39;49m\u001b[38;5;124;43m\"\u001b[39;49m\u001b[43m,\u001b[49m\u001b[43mdata\u001b[49m\u001b[43m \u001b[49m\u001b[38;5;241;43m=\u001b[39;49m\u001b[43m \u001b[49m\u001b[43mfulton_data\u001b[49m\u001b[43m)\u001b[49m\u001b[38;5;241;43m.\u001b[39;49m\u001b[43mfit\u001b[49m\u001b[43m(\u001b[49m\u001b[43m)\u001b[49m\n",
      "File \u001b[1;32m~\\anaconda3\\lib\\site-packages\\statsmodels\\regression\\linear_model.py:312\u001b[0m, in \u001b[0;36mRegressionModel.fit\u001b[1;34m(self, method, cov_type, cov_kwds, use_t, **kwargs)\u001b[0m\n\u001b[0;32m    310\u001b[0m         \u001b[38;5;66;03m# Cache these singular values for use later.\u001b[39;00m\n\u001b[0;32m    311\u001b[0m         \u001b[38;5;28mself\u001b[39m\u001b[38;5;241m.\u001b[39mwexog_singular_values \u001b[38;5;241m=\u001b[39m singular_values\n\u001b[1;32m--> 312\u001b[0m         \u001b[38;5;28mself\u001b[39m\u001b[38;5;241m.\u001b[39mrank \u001b[38;5;241m=\u001b[39m \u001b[43mnp\u001b[49m\u001b[38;5;241;43m.\u001b[39;49m\u001b[43mlinalg\u001b[49m\u001b[38;5;241;43m.\u001b[39;49m\u001b[43mmatrix_rank\u001b[49m\u001b[43m(\u001b[49m\u001b[43mnp\u001b[49m\u001b[38;5;241;43m.\u001b[39;49m\u001b[43mdiag\u001b[49m\u001b[43m(\u001b[49m\u001b[43msingular_values\u001b[49m\u001b[43m)\u001b[49m\u001b[43m)\u001b[49m\n\u001b[0;32m    314\u001b[0m     beta \u001b[38;5;241m=\u001b[39m np\u001b[38;5;241m.\u001b[39mdot(\u001b[38;5;28mself\u001b[39m\u001b[38;5;241m.\u001b[39mpinv_wexog, \u001b[38;5;28mself\u001b[39m\u001b[38;5;241m.\u001b[39mwendog)\n\u001b[0;32m    316\u001b[0m \u001b[38;5;28;01melif\u001b[39;00m method \u001b[38;5;241m==\u001b[39m \u001b[38;5;124m\"\u001b[39m\u001b[38;5;124mqr\u001b[39m\u001b[38;5;124m\"\u001b[39m:\n",
      "File \u001b[1;32m<__array_function__ internals>:180\u001b[0m, in \u001b[0;36mmatrix_rank\u001b[1;34m(*args, **kwargs)\u001b[0m\n",
      "File \u001b[1;32m~\\anaconda3\\lib\\site-packages\\numpy\\linalg\\linalg.py:1889\u001b[0m, in \u001b[0;36mmatrix_rank\u001b[1;34m(A, tol, hermitian)\u001b[0m\n\u001b[0;32m   1887\u001b[0m \u001b[38;5;28;01mif\u001b[39;00m A\u001b[38;5;241m.\u001b[39mndim \u001b[38;5;241m<\u001b[39m \u001b[38;5;241m2\u001b[39m:\n\u001b[0;32m   1888\u001b[0m     \u001b[38;5;28;01mreturn\u001b[39;00m \u001b[38;5;28mint\u001b[39m(\u001b[38;5;129;01mnot\u001b[39;00m \u001b[38;5;28mall\u001b[39m(A\u001b[38;5;241m==\u001b[39m\u001b[38;5;241m0\u001b[39m))\n\u001b[1;32m-> 1889\u001b[0m S \u001b[38;5;241m=\u001b[39m \u001b[43msvd\u001b[49m\u001b[43m(\u001b[49m\u001b[43mA\u001b[49m\u001b[43m,\u001b[49m\u001b[43m \u001b[49m\u001b[43mcompute_uv\u001b[49m\u001b[38;5;241;43m=\u001b[39;49m\u001b[38;5;28;43;01mFalse\u001b[39;49;00m\u001b[43m,\u001b[49m\u001b[43m \u001b[49m\u001b[43mhermitian\u001b[49m\u001b[38;5;241;43m=\u001b[39;49m\u001b[43mhermitian\u001b[49m\u001b[43m)\u001b[49m\n\u001b[0;32m   1890\u001b[0m \u001b[38;5;28;01mif\u001b[39;00m tol \u001b[38;5;129;01mis\u001b[39;00m \u001b[38;5;28;01mNone\u001b[39;00m:\n\u001b[0;32m   1891\u001b[0m     tol \u001b[38;5;241m=\u001b[39m S\u001b[38;5;241m.\u001b[39mmax(axis\u001b[38;5;241m=\u001b[39m\u001b[38;5;241m-\u001b[39m\u001b[38;5;241m1\u001b[39m, keepdims\u001b[38;5;241m=\u001b[39m\u001b[38;5;28;01mTrue\u001b[39;00m) \u001b[38;5;241m*\u001b[39m \u001b[38;5;28mmax\u001b[39m(A\u001b[38;5;241m.\u001b[39mshape[\u001b[38;5;241m-\u001b[39m\u001b[38;5;241m2\u001b[39m:]) \u001b[38;5;241m*\u001b[39m finfo(S\u001b[38;5;241m.\u001b[39mdtype)\u001b[38;5;241m.\u001b[39meps\n",
      "File \u001b[1;32m<__array_function__ internals>:180\u001b[0m, in \u001b[0;36msvd\u001b[1;34m(*args, **kwargs)\u001b[0m\n",
      "File \u001b[1;32m~\\anaconda3\\lib\\site-packages\\numpy\\linalg\\linalg.py:1660\u001b[0m, in \u001b[0;36msvd\u001b[1;34m(a, full_matrices, compute_uv, hermitian)\u001b[0m\n\u001b[0;32m   1657\u001b[0m     gufunc \u001b[38;5;241m=\u001b[39m _umath_linalg\u001b[38;5;241m.\u001b[39msvd_n\n\u001b[0;32m   1659\u001b[0m signature \u001b[38;5;241m=\u001b[39m \u001b[38;5;124m'\u001b[39m\u001b[38;5;124mD->d\u001b[39m\u001b[38;5;124m'\u001b[39m \u001b[38;5;28;01mif\u001b[39;00m isComplexType(t) \u001b[38;5;28;01melse\u001b[39;00m \u001b[38;5;124m'\u001b[39m\u001b[38;5;124md->d\u001b[39m\u001b[38;5;124m'\u001b[39m\n\u001b[1;32m-> 1660\u001b[0m s \u001b[38;5;241m=\u001b[39m \u001b[43mgufunc\u001b[49m\u001b[43m(\u001b[49m\u001b[43ma\u001b[49m\u001b[43m,\u001b[49m\u001b[43m \u001b[49m\u001b[43msignature\u001b[49m\u001b[38;5;241;43m=\u001b[39;49m\u001b[43msignature\u001b[49m\u001b[43m,\u001b[49m\u001b[43m \u001b[49m\u001b[43mextobj\u001b[49m\u001b[38;5;241;43m=\u001b[39;49m\u001b[43mextobj\u001b[49m\u001b[43m)\u001b[49m\n\u001b[0;32m   1661\u001b[0m s \u001b[38;5;241m=\u001b[39m s\u001b[38;5;241m.\u001b[39mastype(_realType(result_t), copy\u001b[38;5;241m=\u001b[39m\u001b[38;5;28;01mFalse\u001b[39;00m)\n\u001b[0;32m   1662\u001b[0m \u001b[38;5;28;01mreturn\u001b[39;00m s\n",
      "File \u001b[1;32m~\\anaconda3\\lib\\site-packages\\numpy\\linalg\\linalg.py:97\u001b[0m, in \u001b[0;36m_raise_linalgerror_svd_nonconvergence\u001b[1;34m(err, flag)\u001b[0m\n\u001b[0;32m     96\u001b[0m \u001b[38;5;28;01mdef\u001b[39;00m \u001b[38;5;21m_raise_linalgerror_svd_nonconvergence\u001b[39m(err, flag):\n\u001b[1;32m---> 97\u001b[0m     \u001b[38;5;28;01mraise\u001b[39;00m LinAlgError(\u001b[38;5;124m\"\u001b[39m\u001b[38;5;124mSVD did not converge\u001b[39m\u001b[38;5;124m\"\u001b[39m)\n",
      "\u001b[1;31mLinAlgError\u001b[0m: SVD did not converge"
     ]
    }
   ],
   "source": [
    "lm = smf.ols (\"np.log(qty) ~ np.log(price)\",data = fulton_data).fit()"
   ]
  },
  {
   "cell_type": "code",
   "execution_count": 17,
   "id": "b549a7c4",
   "metadata": {},
   "outputs": [
    {
     "data": {
      "text/html": [
       "<table class=\"simpletable\">\n",
       "<caption>OLS Regression Results</caption>\n",
       "<tr>\n",
       "  <th>Dep. Variable:</th>           <td>qty</td>       <th>  R-squared:         </th> <td>   0.078</td>\n",
       "</tr>\n",
       "<tr>\n",
       "  <th>Model:</th>                   <td>OLS</td>       <th>  Adj. R-squared:    </th> <td>   0.069</td>\n",
       "</tr>\n",
       "<tr>\n",
       "  <th>Method:</th>             <td>Least Squares</td>  <th>  F-statistic:       </th> <td>   9.167</td>\n",
       "</tr>\n",
       "<tr>\n",
       "  <th>Date:</th>             <td>Sun, 14 Jan 2024</td> <th>  Prob (F-statistic):</th>  <td>0.00308</td>\n",
       "</tr>\n",
       "<tr>\n",
       "  <th>Time:</th>                 <td>21:16:13</td>     <th>  Log-Likelihood:    </th> <td> -119.35</td>\n",
       "</tr>\n",
       "<tr>\n",
       "  <th>No. Observations:</th>      <td>   111</td>      <th>  AIC:               </th> <td>   242.7</td>\n",
       "</tr>\n",
       "<tr>\n",
       "  <th>Df Residuals:</th>          <td>   109</td>      <th>  BIC:               </th> <td>   248.1</td>\n",
       "</tr>\n",
       "<tr>\n",
       "  <th>Df Model:</th>              <td>     1</td>      <th>                     </th>     <td> </td>   \n",
       "</tr>\n",
       "<tr>\n",
       "  <th>Covariance Type:</th>      <td>nonrobust</td>    <th>                     </th>     <td> </td>   \n",
       "</tr>\n",
       "</table>\n",
       "<table class=\"simpletable\">\n",
       "<tr>\n",
       "    <td></td>       <th>coef</th>     <th>std err</th>      <th>t</th>      <th>P>|t|</th>  <th>[0.025</th>    <th>0.975]</th>  \n",
       "</tr>\n",
       "<tr>\n",
       "  <th>const</th> <td>    8.4187</td> <td>    0.076</td> <td>  110.445</td> <td> 0.000</td> <td>    8.268</td> <td>    8.570</td>\n",
       "</tr>\n",
       "<tr>\n",
       "  <th>price</th> <td>   -0.5409</td> <td>    0.179</td> <td>   -3.028</td> <td> 0.003</td> <td>   -0.895</td> <td>   -0.187</td>\n",
       "</tr>\n",
       "</table>\n",
       "<table class=\"simpletable\">\n",
       "<tr>\n",
       "  <th>Omnibus:</th>       <td>12.064</td> <th>  Durbin-Watson:     </th> <td>   1.556</td>\n",
       "</tr>\n",
       "<tr>\n",
       "  <th>Prob(Omnibus):</th> <td> 0.002</td> <th>  Jarque-Bera (JB):  </th> <td>  12.644</td>\n",
       "</tr>\n",
       "<tr>\n",
       "  <th>Skew:</th>          <td>-0.796</td> <th>  Prob(JB):          </th> <td> 0.00180</td>\n",
       "</tr>\n",
       "<tr>\n",
       "  <th>Kurtosis:</th>      <td> 3.448</td> <th>  Cond. No.          </th> <td>    2.74</td>\n",
       "</tr>\n",
       "</table><br/><br/>Notes:<br/>[1] Standard Errors assume that the covariance matrix of the errors is correctly specified."
      ],
      "text/plain": [
       "<class 'statsmodels.iolib.summary.Summary'>\n",
       "\"\"\"\n",
       "                            OLS Regression Results                            \n",
       "==============================================================================\n",
       "Dep. Variable:                    qty   R-squared:                       0.078\n",
       "Model:                            OLS   Adj. R-squared:                  0.069\n",
       "Method:                 Least Squares   F-statistic:                     9.167\n",
       "Date:                Sun, 14 Jan 2024   Prob (F-statistic):            0.00308\n",
       "Time:                        21:16:13   Log-Likelihood:                -119.35\n",
       "No. Observations:                 111   AIC:                             242.7\n",
       "Df Residuals:                     109   BIC:                             248.1\n",
       "Df Model:                           1                                         \n",
       "Covariance Type:            nonrobust                                         \n",
       "==============================================================================\n",
       "                 coef    std err          t      P>|t|      [0.025      0.975]\n",
       "------------------------------------------------------------------------------\n",
       "const          8.4187      0.076    110.445      0.000       8.268       8.570\n",
       "price         -0.5409      0.179     -3.028      0.003      -0.895      -0.187\n",
       "==============================================================================\n",
       "Omnibus:                       12.064   Durbin-Watson:                   1.556\n",
       "Prob(Omnibus):                  0.002   Jarque-Bera (JB):               12.644\n",
       "Skew:                          -0.796   Prob(JB):                      0.00180\n",
       "Kurtosis:                       3.448   Cond. No.                         2.74\n",
       "==============================================================================\n",
       "\n",
       "Notes:\n",
       "[1] Standard Errors assume that the covariance matrix of the errors is correctly specified.\n",
       "\"\"\""
      ]
     },
     "execution_count": 17,
     "metadata": {},
     "output_type": "execute_result"
    }
   ],
   "source": [
    "x = fulton_data ['price']\n",
    "x = sm.add_constant(x)\n",
    "y = fulton_data['qty']\n",
    "\n",
    "ols = sm.OLS(y,x).fit()\n",
    "ols.summary()\n"
   ]
  },
  {
   "cell_type": "code",
   "execution_count": 21,
   "id": "fc285bb2",
   "metadata": {},
   "outputs": [
    {
     "data": {
      "text/html": [
       "<table class=\"simpletable\">\n",
       "<caption>IV-2SLS Estimation Summary</caption>\n",
       "<tr>\n",
       "  <th>Dep. Variable:</th>           <td>qty</td>       <th>  R-squared:         </th> <td>-0.0002</td>\n",
       "</tr>\n",
       "<tr>\n",
       "  <th>Estimator:</th>             <td>IV-2SLS</td>     <th>  Adj. R-squared:    </th> <td>-0.0094</td>\n",
       "</tr>\n",
       "<tr>\n",
       "  <th>No. Observations:</th>        <td>111</td>       <th>  F-statistic:       </th> <td>5.2772</td> \n",
       "</tr>\n",
       "<tr>\n",
       "  <th>Date:</th>             <td>Sun, Jan 14 2024</td> <th>  P-value (F-stat)   </th> <td>0.0216</td> \n",
       "</tr>\n",
       "<tr>\n",
       "  <th>Time:</th>                 <td>21:18:42</td>     <th>  Distribution:      </th> <td>chi2(1)</td>\n",
       "</tr>\n",
       "<tr>\n",
       "  <th>Cov. Estimator:</th>        <td>robust</td>      <th>                     </th>    <td></td>    \n",
       "</tr>\n",
       "<tr>\n",
       "  <th></th>                          <td></td>         <th>                     </th>    <td></td>    \n",
       "</tr>\n",
       "</table>\n",
       "<table class=\"simpletable\">\n",
       "<caption>Parameter Estimates</caption>\n",
       "<tr>\n",
       "      <td></td>      <th>Parameter</th> <th>Std. Err.</th> <th>T-stat</th>  <th>P-value</th> <th>Lower CI</th> <th>Upper CI</th>\n",
       "</tr>\n",
       "<tr>\n",
       "  <th>Intercept</th>  <td>8.3138</td>    <td>0.1175</td>   <td>70.750</td>  <td>0.0000</td>   <td>8.0835</td>   <td>8.5441</td> \n",
       "</tr>\n",
       "<tr>\n",
       "  <th>price</th>      <td>-1.0824</td>   <td>0.4712</td>   <td>-2.2972</td> <td>0.0216</td>   <td>-2.0059</td>  <td>-0.1589</td>\n",
       "</tr>\n",
       "</table><br/><br/>Endogenous: price<br/>Instruments: stormy<br/>Robust Covariance (Heteroskedastic)<br/>Debiased: False"
      ],
      "text/plain": [
       "<class 'linearmodels.compat.statsmodels.Summary'>\n",
       "\"\"\"\n",
       "                          IV-2SLS Estimation Summary                          \n",
       "==============================================================================\n",
       "Dep. Variable:                    qty   R-squared:                     -0.0002\n",
       "Estimator:                    IV-2SLS   Adj. R-squared:                -0.0094\n",
       "No. Observations:                 111   F-statistic:                    5.2772\n",
       "Date:                Sun, Jan 14 2024   P-value (F-stat)                0.0216\n",
       "Time:                        21:18:42   Distribution:                  chi2(1)\n",
       "Cov. Estimator:                robust                                         \n",
       "                                                                              \n",
       "                             Parameter Estimates                              \n",
       "==============================================================================\n",
       "            Parameter  Std. Err.     T-stat    P-value    Lower CI    Upper CI\n",
       "------------------------------------------------------------------------------\n",
       "Intercept      8.3138     0.1175     70.750     0.0000      8.0835      8.5441\n",
       "price         -1.0824     0.4712    -2.2972     0.0216     -2.0059     -0.1589\n",
       "==============================================================================\n",
       "\n",
       "Endogenous: price\n",
       "Instruments: stormy\n",
       "Robust Covariance (Heteroskedastic)\n",
       "Debiased: False\n",
       "\"\"\""
      ]
     },
     "execution_count": 21,
     "metadata": {},
     "output_type": "execute_result"
    }
   ],
   "source": [
    "iv_reg = IV2SLS.from_formula(\"qty ~ 1 + [price ~ stormy]\", fulton_data).fit()\n",
    "iv_reg.summary"
   ]
  },
  {
   "cell_type": "code",
   "execution_count": null,
   "id": "1599a65e",
   "metadata": {},
   "outputs": [],
   "source": []
  }
 ],
 "metadata": {
  "kernelspec": {
   "display_name": "Python 3 (ipykernel)",
   "language": "python",
   "name": "python3"
  },
  "language_info": {
   "codemirror_mode": {
    "name": "ipython",
    "version": 3
   },
   "file_extension": ".py",
   "mimetype": "text/x-python",
   "name": "python",
   "nbconvert_exporter": "python",
   "pygments_lexer": "ipython3",
   "version": "3.9.12"
  }
 },
 "nbformat": 4,
 "nbformat_minor": 5
}
